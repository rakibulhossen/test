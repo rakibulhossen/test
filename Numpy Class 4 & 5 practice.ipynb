{
 "cells": [
  {
   "cell_type": "code",
   "execution_count": 1,
   "id": "4fbf184e",
   "metadata": {},
   "outputs": [],
   "source": [
    "import numpy as np"
   ]
  },
  {
   "cell_type": "code",
   "execution_count": 2,
   "id": "7cf39279",
   "metadata": {},
   "outputs": [],
   "source": [
    "#numpy arrays and it is two type - vector (one dimentional) and matrix (two dimentional); here dimention mean row and column"
   ]
  },
  {
   "cell_type": "code",
   "execution_count": 3,
   "id": "4a5a2fa1",
   "metadata": {},
   "outputs": [
    {
     "name": "stdout",
     "output_type": "stream",
     "text": [
      "[1, 0, -1]\n"
     ]
    }
   ],
   "source": [
    "my_list = [1, 0 , - 1]\n",
    "print(my_list)"
   ]
  },
  {
   "cell_type": "code",
   "execution_count": 4,
   "id": "b5aaf61b",
   "metadata": {},
   "outputs": [
    {
     "name": "stdout",
     "output_type": "stream",
     "text": [
      "[ 1  0 -1]\n"
     ]
    }
   ],
   "source": [
    "my_array = np.array(my_list)\n",
    "print(my_array)"
   ]
  },
  {
   "cell_type": "code",
   "execution_count": 7,
   "id": "4ad7d807",
   "metadata": {},
   "outputs": [
    {
     "name": "stdout",
     "output_type": "stream",
     "text": [
      "[[1, 2, 3], [4, 5, 6], [7, 8, 9], [4, 5, 9]]\n"
     ]
    }
   ],
   "source": [
    "my_matrix = [[1, 2, 3], [4, 5, 6], [7, 8 ,9], [4,5,9]]\n",
    "print(my_matrix)"
   ]
  },
  {
   "cell_type": "code",
   "execution_count": 8,
   "id": "76cca8bc",
   "metadata": {},
   "outputs": [
    {
     "name": "stdout",
     "output_type": "stream",
     "text": [
      "[[1 2 3]\n",
      " [4 5 6]\n",
      " [7 8 9]\n",
      " [4 5 9]]\n"
     ]
    }
   ],
   "source": [
    "matrix_one = np.array(my_matrix)\n",
    "print(matrix_one)"
   ]
  },
  {
   "cell_type": "code",
   "execution_count": 9,
   "id": "dd00d60a",
   "metadata": {},
   "outputs": [
    {
     "name": "stdout",
     "output_type": "stream",
     "text": [
      "<class 'numpy.ndarray'>\n"
     ]
    }
   ],
   "source": [
    "print(type(matrix_one))"
   ]
  },
  {
   "cell_type": "code",
   "execution_count": 11,
   "id": "2c8f04cc",
   "metadata": {},
   "outputs": [
    {
     "name": "stdout",
     "output_type": "stream",
     "text": [
      "(-1, 0, 1)\n"
     ]
    }
   ],
   "source": [
    "my_tuple = (-1, 0, 1)\n",
    "print(my_tuple)"
   ]
  },
  {
   "cell_type": "code",
   "execution_count": 12,
   "id": "b5a6a4d6",
   "metadata": {},
   "outputs": [
    {
     "name": "stdout",
     "output_type": "stream",
     "text": [
      "[-1  0  1]\n"
     ]
    }
   ],
   "source": [
    "my_array1 = np.array(my_tuple)\n",
    "print(my_array1)"
   ]
  },
  {
   "cell_type": "code",
   "execution_count": 13,
   "id": "3dfcece4",
   "metadata": {},
   "outputs": [
    {
     "name": "stdout",
     "output_type": "stream",
     "text": [
      "<class 'numpy.ndarray'>\n"
     ]
    }
   ],
   "source": [
    "print(type(my_array1))"
   ]
  },
  {
   "cell_type": "code",
   "execution_count": 15,
   "id": "2e465f63",
   "metadata": {},
   "outputs": [
    {
     "data": {
      "text/plain": [
       "array([ 0,  1,  2,  3,  4,  5,  6,  7,  8,  9, 10, 11, 12, 13, 14, 15, 16,\n",
       "       17, 18, 19, 20, 21, 22, 23, 24, 25, 26, 27, 28, 29, 30, 31, 32, 33,\n",
       "       34, 35, 36, 37, 38, 39, 40, 41, 42, 43, 44, 45, 46, 47, 48, 49, 50,\n",
       "       51, 52, 53, 54, 55, 56, 57, 58, 59, 60, 61, 62, 63, 64, 65, 66, 67,\n",
       "       68, 69, 70, 71, 72, 73, 74, 75, 76, 77, 78, 79, 80, 81, 82, 83, 84,\n",
       "       85, 86, 87, 88, 89, 90, 91, 92, 93, 94, 95, 96, 97, 98, 99])"
      ]
     },
     "execution_count": 15,
     "metadata": {},
     "output_type": "execute_result"
    }
   ],
   "source": [
    "#arange function of Numpy; NOTE: ARANGE is consist with one R not ARRANGE \n",
    "np.arange(100) #it will evenly arange between 0 to 99 excluding 100 like range() in core python"
   ]
  },
  {
   "cell_type": "code",
   "execution_count": null,
   "id": "f5f95caf",
   "metadata": {},
   "outputs": [],
   "source": [
    "#to see the documentation of the function we can type help(np.arrange), or ?np.arange or shift+tab"
   ]
  },
  {
   "cell_type": "code",
   "execution_count": 17,
   "id": "e582b142",
   "metadata": {},
   "outputs": [
    {
     "name": "stdout",
     "output_type": "stream",
     "text": [
      "Help on built-in function arange in module numpy:\n",
      "\n",
      "arange(...)\n",
      "    arange([start,] stop[, step,], dtype=None, *, like=None)\n",
      "    \n",
      "    Return evenly spaced values within a given interval.\n",
      "    \n",
      "    Values are generated within the half-open interval ``[start, stop)``\n",
      "    (in other words, the interval including `start` but excluding `stop`).\n",
      "    For integer arguments the function is equivalent to the Python built-in\n",
      "    `range` function, but returns an ndarray rather than a list.\n",
      "    \n",
      "    When using a non-integer step, such as 0.1, the results will often not\n",
      "    be consistent.  It is better to use `numpy.linspace` for these cases.\n",
      "    \n",
      "    Parameters\n",
      "    ----------\n",
      "    start : integer or real, optional\n",
      "        Start of interval.  The interval includes this value.  The default\n",
      "        start value is 0.\n",
      "    stop : integer or real\n",
      "        End of interval.  The interval does not include this value, except\n",
      "        in some cases where `step` is not an integer and floating point\n",
      "        round-off affects the length of `out`.\n",
      "    step : integer or real, optional\n",
      "        Spacing between values.  For any output `out`, this is the distance\n",
      "        between two adjacent values, ``out[i+1] - out[i]``.  The default\n",
      "        step size is 1.  If `step` is specified as a position argument,\n",
      "        `start` must also be given.\n",
      "    dtype : dtype\n",
      "        The type of the output array.  If `dtype` is not given, infer the data\n",
      "        type from the other input arguments.\n",
      "    like : array_like\n",
      "        Reference object to allow the creation of arrays which are not\n",
      "        NumPy arrays. If an array-like passed in as ``like`` supports\n",
      "        the ``__array_function__`` protocol, the result will be defined\n",
      "        by it. In this case, it ensures the creation of an array object\n",
      "        compatible with that passed in via this argument.\n",
      "    \n",
      "        .. note::\n",
      "            The ``like`` keyword is an experimental feature pending on\n",
      "            acceptance of :ref:`NEP 35 <NEP35>`.\n",
      "    \n",
      "        .. versionadded:: 1.20.0\n",
      "    \n",
      "    Returns\n",
      "    -------\n",
      "    arange : ndarray\n",
      "        Array of evenly spaced values.\n",
      "    \n",
      "        For floating point arguments, the length of the result is\n",
      "        ``ceil((stop - start)/step)``.  Because of floating point overflow,\n",
      "        this rule may result in the last element of `out` being greater\n",
      "        than `stop`.\n",
      "    \n",
      "    See Also\n",
      "    --------\n",
      "    numpy.linspace : Evenly spaced numbers with careful handling of endpoints.\n",
      "    numpy.ogrid: Arrays of evenly spaced numbers in N-dimensions.\n",
      "    numpy.mgrid: Grid-shaped arrays of evenly spaced numbers in N-dimensions.\n",
      "    \n",
      "    Examples\n",
      "    --------\n",
      "    >>> np.arange(3)\n",
      "    array([0, 1, 2])\n",
      "    >>> np.arange(3.0)\n",
      "    array([ 0.,  1.,  2.])\n",
      "    >>> np.arange(3,7)\n",
      "    array([3, 4, 5, 6])\n",
      "    >>> np.arange(3,7,2)\n",
      "    array([3, 5])\n",
      "\n"
     ]
    }
   ],
   "source": [
    "help(np.arange)"
   ]
  },
  {
   "cell_type": "code",
   "execution_count": 18,
   "id": "f142f20f",
   "metadata": {},
   "outputs": [],
   "source": [
    "?np.arange"
   ]
  },
  {
   "cell_type": "code",
   "execution_count": null,
   "id": "3cbf09e5",
   "metadata": {},
   "outputs": [],
   "source": [
    "np.arange #shift + tab to see documentation"
   ]
  },
  {
   "cell_type": "code",
   "execution_count": 19,
   "id": "a3546535",
   "metadata": {},
   "outputs": [
    {
     "data": {
      "text/plain": [
       "array([3, 5, 7, 9])"
      ]
     },
     "execution_count": 19,
     "metadata": {},
     "output_type": "execute_result"
    }
   ],
   "source": [
    "#now using steps and guides in arange function\n",
    "np.arange(3,10,2) #here 3 is the starting point, 10 is the stop point (excluding 10), and 2 is the gap between two digits"
   ]
  },
  {
   "cell_type": "code",
   "execution_count": 20,
   "id": "fb0d63f1",
   "metadata": {},
   "outputs": [
    {
     "data": {
      "text/plain": [
       "array([100, 110, 120, 130, 140, 150, 160, 170, 180, 190, 200, 210, 220,\n",
       "       230, 240, 250, 260, 270, 280, 290, 300, 310, 320, 330, 340, 350,\n",
       "       360, 370, 380, 390, 400, 410, 420, 430, 440, 450, 460, 470, 480,\n",
       "       490, 500, 510, 520, 530, 540, 550, 560, 570, 580, 590, 600, 610,\n",
       "       620, 630, 640, 650, 660, 670, 680, 690, 700, 710, 720, 730, 740,\n",
       "       750, 760, 770, 780, 790, 800, 810, 820, 830, 840, 850, 860, 870,\n",
       "       880, 890, 900, 910, 920, 930, 940, 950, 960, 970, 980, 990])"
      ]
     },
     "execution_count": 20,
     "metadata": {},
     "output_type": "execute_result"
    }
   ],
   "source": [
    "np.arange(100, 1000, 10)"
   ]
  },
  {
   "cell_type": "code",
   "execution_count": 21,
   "id": "eabf0d1e",
   "metadata": {},
   "outputs": [
    {
     "data": {
      "text/plain": [
       "array([ 3.,  6.,  9., 12.])"
      ]
     },
     "execution_count": 21,
     "metadata": {},
     "output_type": "execute_result"
    }
   ],
   "source": [
    "#we can aslo define data type in arange function\n",
    "np.arange(3,15,3, dtype=float) #here dtype is to define datatype after defining the start, end, and step or gap"
   ]
  },
  {
   "cell_type": "code",
   "execution_count": 24,
   "id": "36b05daa",
   "metadata": {},
   "outputs": [
    {
     "data": {
      "text/plain": [
       "array([1.        , 1.22222222, 1.44444444, 1.66666667, 1.88888889,\n",
       "       2.11111111, 2.33333333, 2.55555556, 2.77777778, 3.        ])"
      ]
     },
     "execution_count": 24,
     "metadata": {},
     "output_type": "execute_result"
    }
   ],
   "source": [
    "#linspace is to distribute between two numbers evenly\n",
    "np.linspace(1,3,10) #here 1 is the starting point, 3 is the stop point and 10 is the number of output"
   ]
  },
  {
   "cell_type": "code",
   "execution_count": 26,
   "id": "660dbd3b",
   "metadata": {},
   "outputs": [
    {
     "data": {
      "text/plain": [
       "(array([1.        , 1.01010101, 1.02020202, 1.03030303, 1.04040404,\n",
       "        1.05050505, 1.06060606, 1.07070707, 1.08080808, 1.09090909,\n",
       "        1.1010101 , 1.11111111, 1.12121212, 1.13131313, 1.14141414,\n",
       "        1.15151515, 1.16161616, 1.17171717, 1.18181818, 1.19191919,\n",
       "        1.2020202 , 1.21212121, 1.22222222, 1.23232323, 1.24242424,\n",
       "        1.25252525, 1.26262626, 1.27272727, 1.28282828, 1.29292929,\n",
       "        1.3030303 , 1.31313131, 1.32323232, 1.33333333, 1.34343434,\n",
       "        1.35353535, 1.36363636, 1.37373737, 1.38383838, 1.39393939,\n",
       "        1.4040404 , 1.41414141, 1.42424242, 1.43434343, 1.44444444,\n",
       "        1.45454545, 1.46464646, 1.47474747, 1.48484848, 1.49494949,\n",
       "        1.50505051, 1.51515152, 1.52525253, 1.53535354, 1.54545455,\n",
       "        1.55555556, 1.56565657, 1.57575758, 1.58585859, 1.5959596 ,\n",
       "        1.60606061, 1.61616162, 1.62626263, 1.63636364, 1.64646465,\n",
       "        1.65656566, 1.66666667, 1.67676768, 1.68686869, 1.6969697 ,\n",
       "        1.70707071, 1.71717172, 1.72727273, 1.73737374, 1.74747475,\n",
       "        1.75757576, 1.76767677, 1.77777778, 1.78787879, 1.7979798 ,\n",
       "        1.80808081, 1.81818182, 1.82828283, 1.83838384, 1.84848485,\n",
       "        1.85858586, 1.86868687, 1.87878788, 1.88888889, 1.8989899 ,\n",
       "        1.90909091, 1.91919192, 1.92929293, 1.93939394, 1.94949495,\n",
       "        1.95959596, 1.96969697, 1.97979798, 1.98989899, 2.        ]),\n",
       " 0.010101010101010102)"
      ]
     },
     "execution_count": 26,
     "metadata": {},
     "output_type": "execute_result"
    }
   ],
   "source": [
    "#retstep is to deetermine the output of gap between two numbers\n",
    "np.linspace(1, 2, 100, retstep= True)"
   ]
  },
  {
   "cell_type": "code",
   "execution_count": null,
   "id": "fe6e39f1",
   "metadata": {},
   "outputs": [],
   "source": []
  }
 ],
 "metadata": {
  "kernelspec": {
   "display_name": "Python 3",
   "language": "python",
   "name": "python3"
  },
  "language_info": {
   "codemirror_mode": {
    "name": "ipython",
    "version": 3
   },
   "file_extension": ".py",
   "mimetype": "text/x-python",
   "name": "python",
   "nbconvert_exporter": "python",
   "pygments_lexer": "ipython3",
   "version": "3.8.8"
  }
 },
 "nbformat": 4,
 "nbformat_minor": 5
}
